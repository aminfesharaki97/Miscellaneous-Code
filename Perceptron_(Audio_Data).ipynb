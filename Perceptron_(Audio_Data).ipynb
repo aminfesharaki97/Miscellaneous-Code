{
  "nbformat": 4,
  "nbformat_minor": 0,
  "metadata": {
    "colab": {
      "name": "Perceptron (Audio  Data)",
      "provenance": [],
      "collapsed_sections": []
    },
    "kernelspec": {
      "name": "python3",
      "display_name": "Python 3"
    },
    "language_info": {
      "name": "python"
    }
  },
  "cells": [
    {
      "cell_type": "code",
      "execution_count": null,
      "metadata": {
        "id": "3SqDTDH6H2go"
      },
      "outputs": [],
      "source": [
        "# All IMPORTS you may need! \n",
        "\n",
        "import pandas as pd\n",
        "import numpy as np\n",
        "import json\n",
        "import os\n",
        "import matplotlib.pyplot as plt\n",
        "from sklearn.preprocessing import OneHotEncoder, OrdinalEncoder, LabelEncoder\n",
        "from sklearn.metrics import confusion_matrix, accuracy_score\n",
        "from sklearn.model_selection import train_test_split\n",
        "from sklearn.neighbors import KNeighborsClassifier\n",
        "from sklearn.linear_model import Perceptron"
      ]
    },
    {
      "cell_type": "markdown",
      "source": [
        "** Perceptron Implementation.**\n",
        "\n",
        "Load the audio (Drum) dataset. Make sure you have plus and minus ones for labels. For example,\n",
        "you can modify the labels like this:\n",
        "\n",
        "```\n",
        "y = le.transform(labels)\n",
        "y[y==0] = -1\n",
        "```\n",
        "\n",
        "Write the following functions:\n",
        "\n",
        "`predict_perceptron(X,w)`\n",
        "\n",
        "This takes a dataset and a weight vector and returns all the predictions that would be made by a\n",
        "perceptron.\n",
        "\n",
        "`train_perceptron(X,w)`\n",
        "\n",
        "Returns w, the trained weight vector. This will take the form of a for loop over all the data points,\n",
        "checking against the pseudocode in the text.\n",
        "Train and test your perceptron using the audio (Drum) dataset. In addition, use scikit-learn’s\n",
        "perceptron classifier and compare. Verify that both your implementation and the built-in one are\n",
        "obtaining similar accuracy values."
      ],
      "metadata": {
        "id": "hDlybT9ivYSh"
      }
    },
    {
      "cell_type": "code",
      "source": [
        "#Load Audio dataset  here\n",
        "audio_df = pd.read_csv('/content/audio_data.csv')"
      ],
      "metadata": {
        "id": "2w0xUOD-yp8j"
      },
      "execution_count": null,
      "outputs": []
    },
    {
      "cell_type": "markdown",
      "source": [
        "Perceptron Implementation"
      ],
      "metadata": {
        "id": "CO-meaDitVHv"
      }
    },
    {
      "cell_type": "code",
      "source": [
        "X = audio_df.iloc[:,4:audio_df.shape[1]]\n",
        "y = audio_df['label']"
      ],
      "metadata": {
        "id": "LxS-1xvJyvbe"
      },
      "execution_count": null,
      "outputs": []
    },
    {
      "cell_type": "code",
      "source": [
        "# Convert labels into -1,1 for perceptron \n",
        "le = LabelEncoder()\n",
        "y = le.fit(y).transform(y)\n",
        "y[y==0]=-1"
      ],
      "metadata": {
        "colab": {
          "base_uri": "https://localhost:8080/"
        },
        "id": "6c4F3Na3zL7m",
        "outputId": "f734ea80-0c22-4b6c-cc20-a87da36f7736"
      },
      "execution_count": null,
      "outputs": [
        {
          "output_type": "execute_result",
          "data": {
            "text/plain": [
              "array([-1, -1, -1, -1, -1, -1, -1, -1, -1, -1, -1, -1, -1, -1, -1, -1, -1,\n",
              "       -1, -1, -1, -1, -1, -1, -1, -1, -1, -1, -1, -1, -1, -1, -1, -1, -1,\n",
              "       -1, -1, -1, -1, -1, -1, -1, -1, -1, -1, -1, -1, -1, -1, -1, -1, -1,\n",
              "       -1, -1, -1, -1, -1, -1, -1, -1, -1, -1, -1, -1, -1, -1, -1, -1, -1,\n",
              "       -1, -1, -1, -1, -1, -1, -1, -1, -1, -1, -1, -1, -1, -1, -1, -1, -1,\n",
              "       -1, -1, -1, -1, -1, -1, -1, -1, -1, -1, -1, -1, -1, -1, -1, -1, -1,\n",
              "       -1, -1, -1, -1, -1, -1, -1, -1, -1, -1, -1, -1, -1, -1, -1,  1,  1,\n",
              "        1,  1,  1,  1,  1,  1,  1,  1,  1,  1,  1,  1,  1,  1,  1,  1,  1,\n",
              "        1,  1,  1,  1,  1,  1,  1,  1,  1,  1,  1,  1,  1,  1,  1,  1,  1,\n",
              "        1,  1,  1,  1,  1,  1,  1,  1,  1,  1,  1,  1,  1,  1,  1,  1,  1,\n",
              "        1,  1,  1,  1,  1,  1,  1,  1,  1,  1,  1,  1,  1,  1,  1,  1,  1,\n",
              "        1,  1,  1,  1,  1,  1,  1,  1,  1,  1,  1,  1,  1,  1,  1,  1,  1,\n",
              "        1,  1,  1,  1,  1,  1,  1,  1])"
            ]
          },
          "metadata": {},
          "execution_count": 12
        }
      ]
    },
    {
      "cell_type": "code",
      "source": [
        "# split data to 90% for training with the random state of 42\n",
        "X_train, X_test, y_train, y_test = train_test_split(X, y, test_size=0.10, random_state=42)"
      ],
      "metadata": {
        "id": "WoEEF2L61F42"
      },
      "execution_count": null,
      "outputs": []
    },
    {
      "cell_type": "markdown",
      "source": [
        "Implementing Perceptron Classifier using python/numpy"
      ],
      "metadata": {
        "id": "PieXolDmwIRS"
      }
    },
    {
      "cell_type": "code",
      "source": [
        "class PerceptronClassifier():\n",
        "  def __init__(self, maxiter):\n",
        "    # hyperparameter\n",
        "    self.maxiter = maxiter\n",
        "  def train_perceptron(self, X, y):\n",
        "    # initialize weights, bias\n",
        "    self.w = np.zeros(X.shape[1])\n",
        "    self.b = 0\n",
        "    for i in range(self.maxiter):\n",
        "      for j in range(X.shape[0]):\n",
        "        a = sum(self.w * X.iloc[j]) + self.b\n",
        "        if y[j] * a <= 0:\n",
        "          # update weights\n",
        "          self.w += y[j] * X.iloc[j]\n",
        "          self.b += y[j]\n",
        "    # return trained weights, bias\n",
        "    return self.w, self.b\n",
        "  def predict_perceptron(self, X):\n",
        "    a = [sum(self.w * x) + self.b for i, x in X.iterrows()]\n",
        "    return np.sign(a).astype(int)"
      ],
      "metadata": {
        "id": "qr3igthKteKN"
      },
      "execution_count": null,
      "outputs": []
    },
    {
      "cell_type": "markdown",
      "source": [
        "Implemented Perceptron and predictions"
      ],
      "metadata": {
        "id": "5_nQzZbkwKsp"
      }
    },
    {
      "cell_type": "code",
      "source": [
        "perc = PerceptronClassifier(1)\n",
        "perc_train, perc_predict = perc.train_perceptron(X_train, y_train)\n",
        "\n",
        "perc_cm = confusion_matrix(y_test, perc.predict_perceptron(X_test))\n",
        "aud_label = ['snare', 'kick']\n",
        "pd.DataFrame(perc_cm, index=aud_label, columns=aud_label)"
      ],
      "metadata": {
        "id": "u76Q1efAtwCT",
        "colab": {
          "base_uri": "https://localhost:8080/",
          "height": 111
        },
        "outputId": "df2d1c50-837c-4e49-a8e6-97adad0765ea"
      },
      "execution_count": null,
      "outputs": [
        {
          "output_type": "execute_result",
          "data": {
            "text/plain": [
              "       snare  kick\n",
              "snare     12     0\n",
              "kick       0    10"
            ],
            "text/html": [
              "\n",
              "  <div id=\"df-fdb2bc90-8cae-4b78-bf32-450a74be0b7d\">\n",
              "    <div class=\"colab-df-container\">\n",
              "      <div>\n",
              "<style scoped>\n",
              "    .dataframe tbody tr th:only-of-type {\n",
              "        vertical-align: middle;\n",
              "    }\n",
              "\n",
              "    .dataframe tbody tr th {\n",
              "        vertical-align: top;\n",
              "    }\n",
              "\n",
              "    .dataframe thead th {\n",
              "        text-align: right;\n",
              "    }\n",
              "</style>\n",
              "<table border=\"1\" class=\"dataframe\">\n",
              "  <thead>\n",
              "    <tr style=\"text-align: right;\">\n",
              "      <th></th>\n",
              "      <th>snare</th>\n",
              "      <th>kick</th>\n",
              "    </tr>\n",
              "  </thead>\n",
              "  <tbody>\n",
              "    <tr>\n",
              "      <th>snare</th>\n",
              "      <td>12</td>\n",
              "      <td>0</td>\n",
              "    </tr>\n",
              "    <tr>\n",
              "      <th>kick</th>\n",
              "      <td>0</td>\n",
              "      <td>10</td>\n",
              "    </tr>\n",
              "  </tbody>\n",
              "</table>\n",
              "</div>\n",
              "      <button class=\"colab-df-convert\" onclick=\"convertToInteractive('df-fdb2bc90-8cae-4b78-bf32-450a74be0b7d')\"\n",
              "              title=\"Convert this dataframe to an interactive table.\"\n",
              "              style=\"display:none;\">\n",
              "        \n",
              "  <svg xmlns=\"http://www.w3.org/2000/svg\" height=\"24px\"viewBox=\"0 0 24 24\"\n",
              "       width=\"24px\">\n",
              "    <path d=\"M0 0h24v24H0V0z\" fill=\"none\"/>\n",
              "    <path d=\"M18.56 5.44l.94 2.06.94-2.06 2.06-.94-2.06-.94-.94-2.06-.94 2.06-2.06.94zm-11 1L8.5 8.5l.94-2.06 2.06-.94-2.06-.94L8.5 2.5l-.94 2.06-2.06.94zm10 10l.94 2.06.94-2.06 2.06-.94-2.06-.94-.94-2.06-.94 2.06-2.06.94z\"/><path d=\"M17.41 7.96l-1.37-1.37c-.4-.4-.92-.59-1.43-.59-.52 0-1.04.2-1.43.59L10.3 9.45l-7.72 7.72c-.78.78-.78 2.05 0 2.83L4 21.41c.39.39.9.59 1.41.59.51 0 1.02-.2 1.41-.59l7.78-7.78 2.81-2.81c.8-.78.8-2.07 0-2.86zM5.41 20L4 18.59l7.72-7.72 1.47 1.35L5.41 20z\"/>\n",
              "  </svg>\n",
              "      </button>\n",
              "      \n",
              "  <style>\n",
              "    .colab-df-container {\n",
              "      display:flex;\n",
              "      flex-wrap:wrap;\n",
              "      gap: 12px;\n",
              "    }\n",
              "\n",
              "    .colab-df-convert {\n",
              "      background-color: #E8F0FE;\n",
              "      border: none;\n",
              "      border-radius: 50%;\n",
              "      cursor: pointer;\n",
              "      display: none;\n",
              "      fill: #1967D2;\n",
              "      height: 32px;\n",
              "      padding: 0 0 0 0;\n",
              "      width: 32px;\n",
              "    }\n",
              "\n",
              "    .colab-df-convert:hover {\n",
              "      background-color: #E2EBFA;\n",
              "      box-shadow: 0px 1px 2px rgba(60, 64, 67, 0.3), 0px 1px 3px 1px rgba(60, 64, 67, 0.15);\n",
              "      fill: #174EA6;\n",
              "    }\n",
              "\n",
              "    [theme=dark] .colab-df-convert {\n",
              "      background-color: #3B4455;\n",
              "      fill: #D2E3FC;\n",
              "    }\n",
              "\n",
              "    [theme=dark] .colab-df-convert:hover {\n",
              "      background-color: #434B5C;\n",
              "      box-shadow: 0px 1px 3px 1px rgba(0, 0, 0, 0.15);\n",
              "      filter: drop-shadow(0px 1px 2px rgba(0, 0, 0, 0.3));\n",
              "      fill: #FFFFFF;\n",
              "    }\n",
              "  </style>\n",
              "\n",
              "      <script>\n",
              "        const buttonEl =\n",
              "          document.querySelector('#df-fdb2bc90-8cae-4b78-bf32-450a74be0b7d button.colab-df-convert');\n",
              "        buttonEl.style.display =\n",
              "          google.colab.kernel.accessAllowed ? 'block' : 'none';\n",
              "\n",
              "        async function convertToInteractive(key) {\n",
              "          const element = document.querySelector('#df-fdb2bc90-8cae-4b78-bf32-450a74be0b7d');\n",
              "          const dataTable =\n",
              "            await google.colab.kernel.invokeFunction('convertToInteractive',\n",
              "                                                     [key], {});\n",
              "          if (!dataTable) return;\n",
              "\n",
              "          const docLinkHtml = 'Like what you see? Visit the ' +\n",
              "            '<a target=\"_blank\" href=https://colab.research.google.com/notebooks/data_table.ipynb>data table notebook</a>'\n",
              "            + ' to learn more about interactive tables.';\n",
              "          element.innerHTML = '';\n",
              "          dataTable['output_type'] = 'display_data';\n",
              "          await google.colab.output.renderOutput(dataTable, element);\n",
              "          const docLink = document.createElement('div');\n",
              "          docLink.innerHTML = docLinkHtml;\n",
              "          element.appendChild(docLink);\n",
              "        }\n",
              "      </script>\n",
              "    </div>\n",
              "  </div>\n",
              "  "
            ]
          },
          "metadata": {},
          "execution_count": 27
        }
      ]
    },
    {
      "cell_type": "code",
      "source": [
        "print('Implemented Perceptron Accuracy %2.2f ' % accuracy_score(y_test, perc.predict_perceptron(X_test)))"
      ],
      "metadata": {
        "id": "8DiqcFExt0wK",
        "colab": {
          "base_uri": "https://localhost:8080/"
        },
        "outputId": "10aabc40-41e2-47cf-fb53-3afc97a4cc62"
      },
      "execution_count": null,
      "outputs": [
        {
          "output_type": "stream",
          "name": "stdout",
          "text": [
            "Implemented Perceptron Accuracy 1.00 \n"
          ]
        }
      ]
    },
    {
      "cell_type": "markdown",
      "source": [
        "Scikit-Learn Perceptron and predictions"
      ],
      "metadata": {
        "id": "FiTyx1iLwQvR"
      }
    },
    {
      "cell_type": "code",
      "source": [
        "# Max iter = 1\n",
        "sk_perc = Perceptron(max_iter=1).fit(X_train, y_train)\n",
        "\n",
        "sk_perc_cm = confusion_matrix(y_test, sk_perc.predict(X_test))\n",
        "pd.DataFrame(sk_perc_cm, index=aud_label, columns=aud_label)"
      ],
      "metadata": {
        "id": "_SpvU-_Bt5ug",
        "colab": {
          "base_uri": "https://localhost:8080/",
          "height": 111
        },
        "outputId": "5b7f0e48-5eeb-4eac-d9b1-3e315678dc85"
      },
      "execution_count": null,
      "outputs": [
        {
          "output_type": "execute_result",
          "data": {
            "text/plain": [
              "       snare  kick\n",
              "snare     12     0\n",
              "kick       0    10"
            ],
            "text/html": [
              "\n",
              "  <div id=\"df-3f27bb20-1b29-4e1e-99f2-c4989b2b8cd3\">\n",
              "    <div class=\"colab-df-container\">\n",
              "      <div>\n",
              "<style scoped>\n",
              "    .dataframe tbody tr th:only-of-type {\n",
              "        vertical-align: middle;\n",
              "    }\n",
              "\n",
              "    .dataframe tbody tr th {\n",
              "        vertical-align: top;\n",
              "    }\n",
              "\n",
              "    .dataframe thead th {\n",
              "        text-align: right;\n",
              "    }\n",
              "</style>\n",
              "<table border=\"1\" class=\"dataframe\">\n",
              "  <thead>\n",
              "    <tr style=\"text-align: right;\">\n",
              "      <th></th>\n",
              "      <th>snare</th>\n",
              "      <th>kick</th>\n",
              "    </tr>\n",
              "  </thead>\n",
              "  <tbody>\n",
              "    <tr>\n",
              "      <th>snare</th>\n",
              "      <td>12</td>\n",
              "      <td>0</td>\n",
              "    </tr>\n",
              "    <tr>\n",
              "      <th>kick</th>\n",
              "      <td>0</td>\n",
              "      <td>10</td>\n",
              "    </tr>\n",
              "  </tbody>\n",
              "</table>\n",
              "</div>\n",
              "      <button class=\"colab-df-convert\" onclick=\"convertToInteractive('df-3f27bb20-1b29-4e1e-99f2-c4989b2b8cd3')\"\n",
              "              title=\"Convert this dataframe to an interactive table.\"\n",
              "              style=\"display:none;\">\n",
              "        \n",
              "  <svg xmlns=\"http://www.w3.org/2000/svg\" height=\"24px\"viewBox=\"0 0 24 24\"\n",
              "       width=\"24px\">\n",
              "    <path d=\"M0 0h24v24H0V0z\" fill=\"none\"/>\n",
              "    <path d=\"M18.56 5.44l.94 2.06.94-2.06 2.06-.94-2.06-.94-.94-2.06-.94 2.06-2.06.94zm-11 1L8.5 8.5l.94-2.06 2.06-.94-2.06-.94L8.5 2.5l-.94 2.06-2.06.94zm10 10l.94 2.06.94-2.06 2.06-.94-2.06-.94-.94-2.06-.94 2.06-2.06.94z\"/><path d=\"M17.41 7.96l-1.37-1.37c-.4-.4-.92-.59-1.43-.59-.52 0-1.04.2-1.43.59L10.3 9.45l-7.72 7.72c-.78.78-.78 2.05 0 2.83L4 21.41c.39.39.9.59 1.41.59.51 0 1.02-.2 1.41-.59l7.78-7.78 2.81-2.81c.8-.78.8-2.07 0-2.86zM5.41 20L4 18.59l7.72-7.72 1.47 1.35L5.41 20z\"/>\n",
              "  </svg>\n",
              "      </button>\n",
              "      \n",
              "  <style>\n",
              "    .colab-df-container {\n",
              "      display:flex;\n",
              "      flex-wrap:wrap;\n",
              "      gap: 12px;\n",
              "    }\n",
              "\n",
              "    .colab-df-convert {\n",
              "      background-color: #E8F0FE;\n",
              "      border: none;\n",
              "      border-radius: 50%;\n",
              "      cursor: pointer;\n",
              "      display: none;\n",
              "      fill: #1967D2;\n",
              "      height: 32px;\n",
              "      padding: 0 0 0 0;\n",
              "      width: 32px;\n",
              "    }\n",
              "\n",
              "    .colab-df-convert:hover {\n",
              "      background-color: #E2EBFA;\n",
              "      box-shadow: 0px 1px 2px rgba(60, 64, 67, 0.3), 0px 1px 3px 1px rgba(60, 64, 67, 0.15);\n",
              "      fill: #174EA6;\n",
              "    }\n",
              "\n",
              "    [theme=dark] .colab-df-convert {\n",
              "      background-color: #3B4455;\n",
              "      fill: #D2E3FC;\n",
              "    }\n",
              "\n",
              "    [theme=dark] .colab-df-convert:hover {\n",
              "      background-color: #434B5C;\n",
              "      box-shadow: 0px 1px 3px 1px rgba(0, 0, 0, 0.15);\n",
              "      filter: drop-shadow(0px 1px 2px rgba(0, 0, 0, 0.3));\n",
              "      fill: #FFFFFF;\n",
              "    }\n",
              "  </style>\n",
              "\n",
              "      <script>\n",
              "        const buttonEl =\n",
              "          document.querySelector('#df-3f27bb20-1b29-4e1e-99f2-c4989b2b8cd3 button.colab-df-convert');\n",
              "        buttonEl.style.display =\n",
              "          google.colab.kernel.accessAllowed ? 'block' : 'none';\n",
              "\n",
              "        async function convertToInteractive(key) {\n",
              "          const element = document.querySelector('#df-3f27bb20-1b29-4e1e-99f2-c4989b2b8cd3');\n",
              "          const dataTable =\n",
              "            await google.colab.kernel.invokeFunction('convertToInteractive',\n",
              "                                                     [key], {});\n",
              "          if (!dataTable) return;\n",
              "\n",
              "          const docLinkHtml = 'Like what you see? Visit the ' +\n",
              "            '<a target=\"_blank\" href=https://colab.research.google.com/notebooks/data_table.ipynb>data table notebook</a>'\n",
              "            + ' to learn more about interactive tables.';\n",
              "          element.innerHTML = '';\n",
              "          dataTable['output_type'] = 'display_data';\n",
              "          await google.colab.output.renderOutput(dataTable, element);\n",
              "          const docLink = document.createElement('div');\n",
              "          docLink.innerHTML = docLinkHtml;\n",
              "          element.appendChild(docLink);\n",
              "        }\n",
              "      </script>\n",
              "    </div>\n",
              "  </div>\n",
              "  "
            ]
          },
          "metadata": {},
          "execution_count": 33
        }
      ]
    },
    {
      "cell_type": "code",
      "source": [
        "print('Scikit-Learn Perceptron Accuracy %2.2f ' % accuracy_score(y_test,sk_perc.predict(X_test)))"
      ],
      "metadata": {
        "id": "Qeo4hJe_t_bF",
        "colab": {
          "base_uri": "https://localhost:8080/"
        },
        "outputId": "66a9ddeb-56b3-4c3d-85c3-40ccbebd2185"
      },
      "execution_count": null,
      "outputs": [
        {
          "output_type": "stream",
          "name": "stdout",
          "text": [
            "Scikit-Learn Perceptron Accuracy 0.95 \n"
          ]
        }
      ]
    },
    {
      "cell_type": "code",
      "source": [
        "# Increase max_iter for better model fit\n",
        "sk_perc = Perceptron(max_iter=1000).fit(X_train, y_train)\n",
        "\n",
        "sk_perc_cm = confusion_matrix(y_test, sk_perc.predict(X_test))\n",
        "pd.DataFrame(sk_perc_cm, index=aud_label, columns=aud_label)"
      ],
      "metadata": {
        "id": "IfVZqD-p5DHE"
      },
      "execution_count": null,
      "outputs": []
    },
    {
      "cell_type": "code",
      "source": [
        "print('Scikit-Learn Perceptron Accuracy %2.2f ' % accuracy_score(y_test,sk_perc.predict(X_test)))"
      ],
      "metadata": {
        "id": "exWl2BAk5L3s"
      },
      "execution_count": null,
      "outputs": []
    }
  ]
}